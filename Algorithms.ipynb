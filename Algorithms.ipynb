{
 "cells": [
  {
   "cell_type": "markdown",
   "id": "089be719",
   "metadata": {},
   "source": [
    "# Lossy Decimal Compression Algorithm"
   ]
  },
  {
   "cell_type": "code",
   "execution_count": 1,
   "id": "fcf328c9",
   "metadata": {},
   "outputs": [],
   "source": [
    "import numpy as np \n",
    "import pandas as pd\n",
    "import os\n",
    "import time\n",
    "\n",
    "def round_decimals(filename, desired_decimals):\n",
    "    \n",
    "    start = time.time()\n",
    "    \n",
    "    file = pd.read_csv(filename)\n",
    "    file_size_before = os.stat(filename).st_size\n",
    "    \n",
    "    numeric = [\"float64\", \"float32\", \"float16\"]\n",
    "    \n",
    "    if desired_decimals < 0:\n",
    "        return print(\"Negative decimal amount is not possible\")\n",
    "    if desired_decimals == 0: \n",
    "        for colname, coltype in file.dtypes.iteritems():\n",
    "            if coltype in numeric:\n",
    "                file[[colname]] = file[[colname]].fillna(0.0).applymap(np.int64)\n",
    "                file[colname] = np.round(file[colname], desired_decimals)\n",
    "                print(f\"Column '{colname}' converted to {desired_decimals} decimals\")\n",
    "    else:\n",
    "        for colname, coltype in file.dtypes.iteritems():\n",
    "            if coltype in numeric:\n",
    "                file[colname] = np.round(file[colname], desired_decimals)\n",
    "                print(f\"Column '{colname}' converted to {desired_decimals} decimals\")\n",
    "    \n",
    "    file.to_csv(\"decimal_reduced_dataset.csv\")\n",
    "    file_size_after = os.stat(\"decimal_reduced_dataset.csv\").st_size\n",
    "    \n",
    "    compression_ratio = file_size_after/file_size_before\n",
    "    compression_factor = file_size_before/file_size_after\n",
    "    saving_percentage = ((file_size_before - file_size_after)/file_size_before) * 100\n",
    "    \n",
    "    print()\n",
    "    print(\"Your file is now compressed and stored as decimal_reduced_dataset.csv in the same file path as this notebook.\")\n",
    "    print()\n",
    "    print(f\" File storage usage decreased from\"\n",
    "              f\" {file_size_before:.2f} Bytes to {file_size_after:.2f} Bytes\")\n",
    "    print()\n",
    "    print(f\" Compression ratio:\" f\" {compression_ratio:.2f}\")\n",
    "    print(f\" Compression factor:\"\n",
    "              f\" {compression_factor:.2f}\")\n",
    "    print(f\" Saving percentage:\"\n",
    "              f\" {saving_percentage:.2f}%\")\n",
    "    \n",
    "    end = time.time()\n",
    "    print(f\" Seconds the algorithm took to run:\" f\"{end-start:.2f}\")\n",
    "    final = end-start\n",
    "\n",
    "    return "
   ]
  },
  {
   "cell_type": "markdown",
   "id": "593ac4f3",
   "metadata": {},
   "source": [
    "# Linear Model Algorithm"
   ]
  },
  {
   "cell_type": "code",
   "execution_count": null,
   "id": "dd9503a1",
   "metadata": {},
   "outputs": [],
   "source": [
    "import numpy as np \n",
    "import pandas as pd\n",
    "from matplotlib import pyplot as plt\n",
    "from matplotlib.pyplot import figure\n",
    "from sklearn import datasets, linear_model\n",
    "from sklearn.linear_model import LinearRegression\n",
    "\n",
    "def linear_model(filename, max_decimals):\n",
    "    \n",
    "    start = time.time()\n",
    "    \n",
    "    csvstorage = [] \n",
    "    decimals = []\n",
    "    float_lst = [\"float64\", \"float32\", \"float16\"]\n",
    "    \n",
    "    if max_decimals < 0:\n",
    "        return print(\"Negative decimal amount is not possible\")\n",
    "    if max_decimals == 1 or max_decimals == 0: \n",
    "        return print(\"Decimal amount should at least be >= 2 for a linear model\")\n",
    "    for i in range(1,max_decimals + 1): \n",
    "        file = pd.read_csv(filename)\n",
    "        if i == 0:\n",
    "            for colname, coltype in file.dtypes.iteritems():\n",
    "                if coltype in float_lst:\n",
    "                    file[[colname]] = file[[colname]].fillna(0.0).applymap(np.int64)\n",
    "                    file[colname] = np.round(file[colname], i)\n",
    "            file.to_csv(\"linear_model0.csv\")\n",
    "            size = os.stat(\"linear_model0.csv\").st_size\n",
    "            csvstorage.append(size)\n",
    "            decimals.append(i)\n",
    "        else: \n",
    "            for colname, coltype in file.dtypes.iteritems():\n",
    "                if coltype in float_lst:\n",
    "                    file[colname] = np.round(file[colname], i)\n",
    "            file.to_csv(\"linear_model.csv\")\n",
    "            size = os.stat(\"linear_model.csv\").st_size\n",
    "            csvstorage.append(size)\n",
    "            decimals.append(i)\n",
    "    \n",
    "    df = pd.DataFrame({\"decimal_amount\": decimals,'csv_storage_size': csvstorage})\n",
    "    \n",
    "    X = df.decimal_amount.values.reshape((-1, 1))\n",
    "    y = df.csv_storage_size.values \n",
    "    \n",
    "    linear_model = LinearRegression()\n",
    "    linear_model.fit(X, y)\n",
    "    \n",
    "    score = linear_model.score(X, y)\n",
    "    \n",
    "    print(f\"Linear model for CSV storage in bytes of dataset '{filename}' is: y = {linear_model.intercept_:.2f} + {float(linear_model.coef_):.2f}x\")\n",
    "    print(f\"Coefficient of determination: '{score}' \")\n",
    "    \n",
    "    plt.scatter(X, y,  color='black')\n",
    "    plt.plot(X, linear_model.predict(X), color='blue', linewidth=1)\n",
    "    plt.title(\"Linear regression decimals and CSV file storage\")\n",
    "    plt.ylabel('CSV storage space in bytes') \n",
    "    plt.xlabel('Decimals') \n",
    "    plt.show()\n",
    "    \n",
    "    end = time.time()\n",
    "    print(f\" Seconds the algorithm took to run:\" f\"{end-start:.2f}\")\n",
    "    final = end-start\n",
    "\n",
    "    return  "
   ]
  },
  {
   "cell_type": "markdown",
   "id": "c7538351",
   "metadata": {},
   "source": [
    "# Algorithm Timer"
   ]
  },
  {
   "cell_type": "code",
   "execution_count": null,
   "id": "8bddab37",
   "metadata": {},
   "outputs": [],
   "source": [
    "lst = []\n",
    "mc = 100\n",
    "for i in range(mc): \n",
    "    round_decimals(\"yourcsv.csv\",2) #replace with algorithm, CSV file and decimal number of choice.\n",
    "    lst.append(final)\n",
    "average = sum(lst)/len(lst)"
   ]
  },
  {
   "cell_type": "code",
   "execution_count": null,
   "id": "c98e38d5",
   "metadata": {},
   "outputs": [],
   "source": [
    "average"
   ]
  }
 ],
 "metadata": {
  "kernelspec": {
   "display_name": "Python 3",
   "language": "python",
   "name": "python3"
  },
  "language_info": {
   "codemirror_mode": {
    "name": "ipython",
    "version": 3
   },
   "file_extension": ".py",
   "mimetype": "text/x-python",
   "name": "python",
   "nbconvert_exporter": "python",
   "pygments_lexer": "ipython3",
   "version": "3.8.8"
  }
 },
 "nbformat": 4,
 "nbformat_minor": 5
}
